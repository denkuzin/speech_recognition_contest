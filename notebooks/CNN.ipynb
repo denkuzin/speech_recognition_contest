{
 "cells": [
  {
   "cell_type": "code",
   "execution_count": null,
   "metadata": {},
   "outputs": [],
   "source": [
    "%matplotlib inline\n",
    "#import matplotlib; matplotlib.use('Agg')\n",
    "\n",
    "#cache files\n",
    "#ls | parallel -L50 \"vmtouch -t {}\"\n",
    "\n",
    "\n",
    "import os\n",
    "from os.path import isdir, join, basename, dirname\n",
    "from pathlib import Path\n",
    "import pandas as pd\n",
    "\n",
    "# Math\n",
    "import numpy as np\n",
    "from scipy.fftpack import fft\n",
    "from scipy import signal\n",
    "from scipy.io import wavfile\n",
    "\n",
    "from sklearn.decomposition import PCA\n",
    "\n",
    "# Visualization\n",
    "import matplotlib.pyplot as plt\n",
    "import seaborn as sns\n",
    "import IPython.display as ipd\n",
    "\n",
    "import warnings\n",
    "warnings.filterwarnings(\"ignore\", module=\"matplotlib\")\n",
    "warnings.filterwarnings(\"ignore\", module=\"scipy.io\")\n",
    "\n",
    "from sklearn import model_selection\n",
    "\n",
    "from tqdm import tqdm_notebook\n",
    "import wave\n",
    "import speechpy\n",
    "import seaborn as sns\n",
    "import time\n",
    "\n",
    "import numpy as np\n",
    "import pandas as pd\n",
    "import tensorflow as tf\n",
    "import matplotlib.pyplot as plt\n",
    "from tqdm import tqdm, tqdm_notebook\n",
    "from sklearn import model_selection\n",
    "from matplotlib import pyplot as plt\n",
    "plt.switch_backend('agg')\n",
    "\n",
    "import gc\n",
    "import datetime\n",
    "import sys\n",
    "\n",
    "from utils import logger, send2telegramm"
   ]
  },
  {
   "cell_type": "markdown",
   "metadata": {},
   "source": [
    "##### SETTINGS:"
   ]
  },
  {
   "cell_type": "code",
   "execution_count": null,
   "metadata": {},
   "outputs": [],
   "source": [
    "#ACTIONS:\n",
    "DO_TRAIN = True\n",
    "DO_CUSTOM_PREDICT = False\n",
    "MODEL_PATH_CUSTOM_PREDICT = 'saved_models/cnn_gpu_1' # in case if DO_CUSTOM_PREDICT == True\n",
    "DEBAG = False\n",
    "PRECEED_TRAIN = 'NO'  # YES - upload pretrained model\n",
    "                       # NO -  start new train\n",
    "\n",
    "\n",
    "NUM_FILTERS_CONV_1 = 32  #32\n",
    "NUM_FILTERS_CONV_2 = 64\n",
    "NUM_FILTERS_CONV_3 = 128\n",
    "NUM_READOUT_NEURONS = 1024 #1024\n",
    "\n",
    "KEEP_PROB = 0.99\n",
    "LEARNING_RATE = 1.0e-5   #1.0e-5\n",
    "TEST_SIZE = 0.03     #0.0002\n",
    "BATCH_SIZE = 100\n",
    "N_CLASSES = 30\n",
    "NUM_EPOCHS = 300\n",
    "NUMBER_STEPS = int(64721*NUM_EPOCHS/BATCH_SIZE)\n",
    "if DEBAG:\n",
    "    NUMBER_STEPS = 100\n",
    "\n",
    "preprocessed_version = 'v1'  #if the files of the version are exist, we will not to preprocess them\n",
    "\n",
    "thersold_good_prediction = 0.99999999\n",
    "NUMBER_STEPS_TEST = int(NUMBER_STEPS/2) #bymber of step in \n",
    "AFTER_NUM_STEPS_APPEND_TEST_DATA = int(NUMBER_STEPS/4) #every the number append test date to train\n",
    "\n",
    "date = datetime.date.today().isoformat()\n",
    "model_dir = 'cnn_gpu_2'\n",
    "model_path = join('saved_models', '{}/model_{}'.format(model_dir, date))\n",
    "\n",
    "\n",
    "    \n",
    "    \n",
    "if PRECEED_TRAIN == 'YES':\n",
    "    saved_model_dir = ''\n",
    "    logger.info('I will upload pretrained model from: {}'.format(saved_model_dir))\n",
    "    if not os.path.exists(saved_model_dir):\n",
    "        sys.exit(\"the prelimenary trained model path doesn't exist\")\n",
    "logger.info('model_path: {}'.format(model_path))\n",
    "\n",
    "logger.info(\"NUM_FILTERS_CONV_1 = {}\".format(NUM_FILTERS_CONV_1))\n",
    "logger.info(\"NUM_FILTERS_CONV_2 = {}\".format(NUM_FILTERS_CONV_2))\n",
    "logger.info(\"NUM_FILTERS_CONV_3 = {}\".format(NUM_FILTERS_CONV_3))\n",
    "logger.info(\"NUM_READOUT_NEURONS = {}\".format(NUM_READOUT_NEURONS))\n",
    "logger.info(\"KEEP_PROB = {}\".format(KEEP_PROB))\n",
    "logger.info(\"LEARNING_RATE = {}\".format(LEARNING_RATE))\n",
    "logger.info(\"TEST_SIZE = {}\".format(TEST_SIZE))\n",
    "logger.info(\"NUM_EPOCHS = {}\".format(NUM_EPOCHS))\n",
    "logger.info(\"NUMBER_STEPS = {}\".format(NUMBER_STEPS))\n",
    "logger.info(\"BATCH_SIZE = {}\".format(BATCH_SIZE))\n",
    "logger.info(\"N_CLASSES = {}\".format(N_CLASSES))\n",
    "logger.info(\"thersold_good_prediction = {}\".format(thersold_good_prediction))\n",
    "logger.info(\"NUMBER_STEPS_TEST = {}\".format(NUMBER_STEPS_TEST))\n",
    "logger.info(\"AFTER_NUM_STEPS_APPEND_TEST_DATA = {}\".format(AFTER_NUM_STEPS_APPEND_TEST_DATA))"
   ]
  },
  {
   "cell_type": "markdown",
   "metadata": {},
   "source": [
    "##### PREPROCESSING"
   ]
  },
  {
   "cell_type": "code",
   "execution_count": null,
   "metadata": {},
   "outputs": [],
   "source": [
    "def get_sample_rate(path):\n",
    "    sample_rate, samples = wavfile.read(path)\n",
    "    return sample_rate\n",
    "\n",
    "def get_amplitudes(path):\n",
    "    sample_rate, samples = wavfile.read(path)\n",
    "    return samples\n",
    "\n",
    "def remove_silence_start():\n",
    "    pass\n",
    "\n",
    "def complete_by_const(array, const = 0, req_len = 16000):\n",
    "    if len(array) < req_len:\n",
    "        new = np.array([const]*req_len)\n",
    "        new[:len(array)] = array\n",
    "    elif len(array) > req_len:\n",
    "        new = array[:req_len]\n",
    "    else:\n",
    "        new = array\n",
    "    return new\n",
    "\n",
    "def encodeTarget(y):\n",
    "    temp = np.zeros((y.size, y.max()+1))\n",
    "    temp[np.arange(y.size), y] = 1\n",
    "    return temp.astype(int)\n",
    "\n",
    "def preprocess_dataframe(df, process_target = True):\n",
    "    global map_dict, map_dict_reverse\n",
    "    df['sample_rate'] = df.train_names.apply(lambda x: get_sample_rate(x))\n",
    "    df['amplitudes'] = df.train_names.apply(lambda x: get_amplitudes(x))\n",
    "    df['avg_ampl'] = df.amplitudes.apply(lambda x: x.mean())\n",
    "    df['std_ampl'] = df.amplitudes.apply(lambda x: x.std())\n",
    "    df['len'] = df.amplitudes.apply(lambda x: len(x))\n",
    "    df['amplitudes'] = df.amplitudes.apply(lambda x: complete_by_const(x))\n",
    "    df['len'] = df.amplitudes.apply(lambda x: len(x))  \n",
    "    if process_target:\n",
    "        uniq_labels = sorted(df.train_labels.unique().tolist())\n",
    "        map_dict = dict(zip(uniq_labels, range(len(uniq_labels))))   # label -> digit\n",
    "        map_dict_reverse = dict((b,a) for a,b in map_dict.items())   # digit -> label\n",
    "        df['encod_label'] = df.train_labels.apply(lambda x : map_dict[x])\n",
    "    return df    \n",
    "      \n",
    "WORKDIR = '/home/dkuzin/files/tensorflow_speech_recognition'\n",
    "\n",
    "train_audio_path = WORKDIR + '/train/audio/'\n",
    "test_audio_path = WORKDIR + '/test/audio/'\n",
    "to_keep = 'yes no up down left right on off stop go silence unknown'.split()    \n",
    "    \n",
    "    \n",
    "path_df_train = 'saved_variables/{}_df_train.pkl'.format(preprocessed_version)\n",
    "path_df_predict = 'saved_variables/{}_df_predict.pkl'.format(preprocessed_version)\n",
    "\n",
    "if (os.path.exists(path_df_train) and os.path.exists(path_df_predict)):\n",
    "    logger.info(\"the data are preprossesed yet, uploading it\")\n",
    "    df_train = pd.read_pickle(path_df_train)\n",
    "    uniq_labels = sorted(df_train.train_labels.unique().tolist())\n",
    "    map_dict = dict(zip(uniq_labels, range(len(uniq_labels))))   # label -> digit\n",
    "    map_dict_reverse = dict((b,a) for a,b in map_dict.items())   # digit -> label\n",
    "    df_predict = pd.read_pickle(path_df_predict)\n",
    "else:    \n",
    "    #read and process train part:\n",
    "    logger.info(\"start to preprocess data\")\n",
    "    dirs = [f for f in os.listdir(train_audio_path) if isdir(join(train_audio_path, f))]\n",
    "    dirs.sort()\n",
    "\n",
    "    train_names = []\n",
    "    for directory in dirs:\n",
    "        directory = join(train_audio_path, directory)\n",
    "        files = [join(directory,f) for f in os.listdir(directory) if f.endswith('.wav')]\n",
    "        train_names.extend(files)\n",
    "    train_names.sort()\n",
    "    train_labels = [f.split('/')[-2] for f in train_names]\n",
    "    user_names = [basename(f).split(\"_\")[0] for f in train_names]\n",
    "    df_train = pd.DataFrame({'train_names':train_names,\n",
    "                       'train_labels':train_labels,\n",
    "                       'user_names':user_names})\n",
    "    df_train = df_train[['train_names', 'user_names','train_labels']]\n",
    "    df_train = df_train[df_train.train_labels != '_background_noise_']\n",
    "    df_train = preprocess_dataframe(df_train, process_target = True)\n",
    "\n",
    "    #read and process predict part:\n",
    "    test_names = [join(test_audio_path, f) for f in os.listdir(test_audio_path) \n",
    "                              if f.endswith('.wav')]\n",
    "    user_names = [basename(f) for f in test_names]\n",
    "    df_predict = pd.DataFrame({'train_names':test_names, 'user_names':user_names})\n",
    "    df_predict = preprocess_dataframe(df_predict, process_target = False)\n",
    "    \n",
    "    df_train.to_pickle(path_df_train)\n",
    "    df_predict.to_pickle(path_df_predict)\n",
    "\n",
    "X = np.vstack(df_train.amplitudes.values)\n",
    "y = df_train.encod_label.values\n",
    "y_binary = encodeTarget(y)\n",
    "\n",
    "X_predict = np.vstack(df_predict.amplitudes.values)\n",
    "\n",
    "logger.info(\"y_binary.shape of train data = {}\".format(y_binary.shape))\n",
    "logger.info(\"X.shape of train data = {}\".format(X.shape))\n",
    "logger.info(\"X_predict.shape of predict data = {}\".format(X_predict.shape))"
   ]
  },
  {
   "cell_type": "code",
   "execution_count": null,
   "metadata": {},
   "outputs": [],
   "source": [
    "if DEBAG:\n",
    "#decrease number of elements in training (DELETE IT, for debug only)\n",
    "    X, y, y_binary, df_short = X[::100], y[::100], y_binary[::100], df[::100]\n",
    "    X_predict = X_predict[:10000]"
   ]
  },
  {
   "cell_type": "code",
   "execution_count": null,
   "metadata": {},
   "outputs": [],
   "source": [
    "def func(signal):\n",
    "    return speechpy.feature.lmfe(signal, 16000, frame_length=0.02, \n",
    "                frame_stride=0.01, num_filters=40, fft_length=512, low_frequency=0, \n",
    "                high_frequency=None)\n",
    "\n",
    "path_proc_train = 'saved_variables/{}_proc_train.npy'.format(preprocessed_version)\n",
    "path_proc_predict = 'saved_variables/{}_proc_predict.npy'.format(preprocessed_version)\n",
    "\n",
    "if (os.path.exists(path_proc_train) and os.path.exists(path_proc_predict)):\n",
    "    logger.info(\"the PROC data are preprossesed yet, uploading it\")\n",
    "    proc_train = np.load(path_proc_train)\n",
    "    x_test_to_submit = np.load(path_proc_predict)\n",
    "else: \n",
    "    logger.info(\"start to PROC preprocess data\")\n",
    "    t = time.time()\n",
    "    proc_train = np.apply_along_axis(func, 1,X)\n",
    "    logger.info(\"train was transformed, elapsed time is {:.4f} sec\".format(time.time()-t))\n",
    "    t = time.time()\n",
    "    x_test_to_submit = np.apply_along_axis(func, 1, X_predict)\n",
    "    logger.info(\"predict data was transformed, elapsed time is {:.4f} sec\".format(time.time()-t))\n",
    "    \n",
    "    np.save(path_proc_train, proc_train)\n",
    "    np.save(path_proc_predict, x_test_to_submit)"
   ]
  },
  {
   "cell_type": "code",
   "execution_count": null,
   "metadata": {},
   "outputs": [],
   "source": [
    "X_train, X_valid, y_train, y_valid = model_selection.train_test_split(\n",
    "                        proc_train, y_binary, test_size = TEST_SIZE)\n",
    "\n",
    "_ = gc.collect()\n",
    "logger.info(\"shapes = X_train {}, y_train {}, X_valid {}, y_valid {}\".format(\n",
    "        X_train.shape, y_train.shape, X_valid.shape, y_valid.shape))"
   ]
  },
  {
   "cell_type": "code",
   "execution_count": null,
   "metadata": {},
   "outputs": [],
   "source": []
  },
  {
   "cell_type": "code",
   "execution_count": null,
   "metadata": {},
   "outputs": [],
   "source": []
  },
  {
   "cell_type": "code",
   "execution_count": null,
   "metadata": {},
   "outputs": [],
   "source": []
  },
  {
   "cell_type": "code",
   "execution_count": null,
   "metadata": {},
   "outputs": [],
   "source": []
  },
  {
   "cell_type": "markdown",
   "metadata": {},
   "source": [
    "### CNN MODEL"
   ]
  },
  {
   "cell_type": "code",
   "execution_count": null,
   "metadata": {},
   "outputs": [],
   "source": [
    "def next_batch(batch_size):\n",
    "    global data_index\n",
    "    batch = X_train[data_index:data_index+batch_size,:]\n",
    "    labels = y_train[data_index:data_index+batch_size]\n",
    "    data_index = (data_index + batch_size) % (X_train.shape[0])\n",
    "    return (batch, labels)\n",
    "\n",
    "def next_batch_from_test(batch_size, X_add , y_add):\n",
    "    #get next batch\n",
    "    global data_index_test\n",
    "    batch = X_add[data_index_test:data_index_test+batch_size,:]\n",
    "    labels = y_add[data_index_test:data_index_test+batch_size,:]\n",
    "    data_index_test = (data_index_test + batch_size) % (X_add.shape[0])\n",
    "    return (batch, labels)\n",
    "\n",
    "def mark_test_data_and_extract_well_predicted():\n",
    "    #idea:\n",
    "    #if prelimenary trained algo show very high probability a element belong to the class, \n",
    "    # we'll append it to training sample and retrain the algo\n",
    "    logger.info(\"x_test_to_submit.shape = {}\".format(x_test_to_submit.shape))\n",
    "    size = 100\n",
    "    batches_generator = (x_test_to_submit[i:i + size] for i in range(0, len(x_test_to_submit), size))\n",
    "    predictions = []\n",
    "       \n",
    "    for test_batch in batches_generator:\n",
    "        predicted = y_conv.eval(session=sess, feed_dict={x:test_batch, keep_prob: 1.0})\n",
    "        predictions.extend(predicted)\n",
    "    temp_session = tf.Session()\n",
    "    predictions = np.array(predictions)           # to numpy array\n",
    "    predictions = tf.nn.softmax(predictions).eval(session=temp_session)\n",
    "    \n",
    "    predictions = (predictions >= thersold_good_prediction).astype(int) #transform to [0,0,0,1,0,0,]\n",
    "                                                                       #if there is no outstanding value,\n",
    "                                                                       #predicted will consist of zeros\n",
    "    bool_values = np.any(predictions, axis = 1)   # True means there is non-zero element\n",
    "                                                  # False means all elements equal zeros\n",
    "    indexes = np.argwhere(bool_values).ravel()     # indexes of \"True\"\n",
    "    temp_session.close()\n",
    "    return x_test_to_submit[indexes], predictions[indexes]          \n",
    "\n",
    "\n",
    "graph = tf.Graph()\n",
    "with graph.as_default():\n",
    "    x = tf.placeholder(tf.float32, shape=[None, 99, 40])  #features\n",
    "    y_ = tf.placeholder(tf.float32, shape=[None, N_CLASSES])  #true targets\n",
    "    \n",
    "    # weight inotialization\n",
    "    def weight_variable(shape):\n",
    "        initial = tf.truncated_normal(shape, mean=0.0, stddev=0.1)   #init by random values ~N(0.0,0.1)\n",
    "        return tf.Variable(initial)\n",
    "\n",
    "    def bias_variable(shape):\n",
    "        initial = tf.constant(0.1, shape=shape)   #init by constant\n",
    "        return tf.Variable(initial)\n",
    "\n",
    "   # First Convolutional Layer  # 5,5\n",
    "    W_conv1 = weight_variable([20, 20, 1, NUM_FILTERS_CONV_1])     #32 maps, tune\n",
    "    b_conv1 = bias_variable([NUM_FILTERS_CONV_1])\n",
    "\n",
    "    x_image = tf.reshape(x, [-1,99,40,1])\n",
    "    #-1 - is the special value, the size of that dimension is computed so that the total size remains constant\n",
    "    #28,28 - width and height\n",
    "    #1 - RGB numbers (we have black and white pics, therefore we have only 1 number)\n",
    "\n",
    "    #convolution layer, activation function and pooling layer\n",
    "    h_conv1 = tf.nn.conv2d(x_image, W_conv1, strides=[1, 1, 1, 1], padding='SAME')\n",
    "    h_relu1 = tf.nn.relu(h_conv1 + b_conv1)\n",
    "    h_pool1 = tf.nn.max_pool(h_relu1, ksize=[1, 2, 2, 1],\n",
    "                        strides=[1, 2, 2, 1], padding='SAME') #99*40 --> 50*20 \n",
    "    \n",
    "    # second convolutional layer\n",
    "                               #5,5\n",
    "    W_conv2 = weight_variable([10, 10, NUM_FILTERS_CONV_1, NUM_FILTERS_CONV_2])\n",
    "    b_conv2 = bias_variable([NUM_FILTERS_CONV_2])\n",
    "\n",
    "    h_conv2 = tf.nn.conv2d(h_pool1, W_conv2, strides=[1, 1, 1, 1], padding='SAME')\n",
    "    h_relu2 = tf.nn.relu(h_conv2 + b_conv2)\n",
    "    h_pool2 = tf.nn.max_pool(h_relu2, ksize=[1, 2, 2, 1],\n",
    "                            strides=[1, 2, 2, 1], padding='SAME') #50*20 --> 25*10   \n",
    "\n",
    "    # third convolutional layer\n",
    "                               #3,3\n",
    "    W_conv3 = weight_variable([5, 5, NUM_FILTERS_CONV_2, NUM_FILTERS_CONV_3])\n",
    "    b_conv3 = bias_variable([NUM_FILTERS_CONV_3])\n",
    "    \n",
    "    h_conv3 = tf.nn.conv2d(h_pool2, W_conv3, strides=[1, 1, 1, 1], padding='SAME')\n",
    "    h_relu3 = tf.nn.relu(h_conv3 + b_conv3)\n",
    "    h_pool3 = tf.nn.max_pool(h_relu3, ksize=[1, 2, 2, 1],\n",
    "                        strides=[1, 2, 2, 1], padding='SAME') #25*10 --> 13*5    \n",
    "   \n",
    "   # densely connected layer\n",
    "    W_fc1 = weight_variable([13*5 * NUM_FILTERS_CONV_3, NUM_READOUT_NEURONS])\n",
    "    b_fc1 = bias_variable([NUM_READOUT_NEURONS])\n",
    "\n",
    "    h_pool3_flat = tf.reshape(h_pool3, [-1, 13*5*NUM_FILTERS_CONV_3])\n",
    "    h_fc1 = tf.nn.relu(tf.matmul(h_pool3_flat, W_fc1) + b_fc1) \n",
    "    \n",
    "   # dropout\n",
    "    keep_prob = tf.placeholder(tf.float32)\n",
    "    h_fc1_drop = tf.nn.dropout(h_fc1, keep_prob)\n",
    "\n",
    "\n",
    "    # readout layer\n",
    "    W_fc2 = weight_variable([NUM_READOUT_NEURONS, N_CLASSES])\n",
    "    b_fc2 = bias_variable([N_CLASSES])\n",
    "\n",
    "    y_conv = tf.matmul(h_fc1_drop, W_fc2) + b_fc2\n",
    "    \n",
    "    cross_entropy = tf.reduce_mean(\n",
    "            tf.nn.softmax_cross_entropy_with_logits(labels=y_, logits=y_conv))\n",
    "    train_step = tf.train.AdamOptimizer(LEARNING_RATE).minimize(cross_entropy)\n",
    "    correct_prediction = tf.equal(tf.argmax(y_conv,1), tf.argmax(y_,1))\n",
    "    accuracy = tf.reduce_mean(tf.cast(correct_prediction, tf.float32))\n",
    "    \n",
    "    saver = tf.train.Saver()\n",
    "    init = (tf.global_variables_initializer(), tf.local_variables_initializer())"
   ]
  },
  {
   "cell_type": "code",
   "execution_count": null,
   "metadata": {},
   "outputs": [],
   "source": []
  },
  {
   "cell_type": "code",
   "execution_count": null,
   "metadata": {},
   "outputs": [],
   "source": []
  },
  {
   "cell_type": "code",
   "execution_count": null,
   "metadata": {},
   "outputs": [],
   "source": []
  },
  {
   "cell_type": "code",
   "execution_count": null,
   "metadata": {},
   "outputs": [],
   "source": [
    "# Train and Evaluate the Model\n",
    "\n",
    "data_index = 0\n",
    "data_index_test = 0\n",
    "\n",
    "def train():\n",
    "    global stats, sess\n",
    "\n",
    "    num_batches = 200 #every 100 batches collect stats and so on\n",
    "    logger.info(\"num_batches_magic_constant = {}\".format(num_batches))\n",
    "\n",
    "    config=tf.ConfigProto(\n",
    "        intra_op_parallelism_threads=0,\n",
    "        inter_op_parallelism_threads=0,\n",
    "        log_device_placement=True)\n",
    "    config.gpu_options.allow_growth = True\n",
    "\n",
    "    sess = tf.Session(graph=graph, config=config)\n",
    "    _ = sess.run(init)\n",
    "\n",
    "    stats = []\n",
    "    speed = 0\n",
    "    average_loss = 0.\n",
    "    counter = 1\n",
    "    ts = time.time()\n",
    "    average_acc = 0\n",
    "    global_step = 0\n",
    "\n",
    "    if PRECEED_TRAIN == 'YES':\n",
    "        path = saved_model_dir #dirname(model_path)\n",
    "        saver.restore(sess, tf.train.latest_checkpoint(path))       \n",
    "\n",
    "    for i in range(NUMBER_STEPS):\n",
    "        batch = next_batch(BATCH_SIZE)\n",
    "\n",
    "        _, loss_val, acc_val = sess.run([train_step, cross_entropy, accuracy], \n",
    "                    feed_dict={x: batch[0], y_: batch[1], keep_prob: KEEP_PROB})\n",
    "        average_loss += loss_val\n",
    "        average_acc += acc_val\n",
    "\n",
    "        #get and print stats\n",
    "        if i % num_batches == 0 and i != 0:\n",
    "\n",
    "            valid_accuracy = accuracy.eval(\n",
    "                        session=sess, feed_dict={x:X_valid, y_: y_valid, keep_prob: 1.0})\n",
    "            loss_valid = cross_entropy.eval(\n",
    "                        session=sess, feed_dict={x:X_valid, y_: y_valid, keep_prob: 1.0})\n",
    "            average_loss = average_loss/counter\n",
    "            average_acc = average_acc/counter\n",
    "            speed = (counter*BATCH_SIZE)/(time.time() - ts)\n",
    "            stats.append([global_step,average_loss, loss_valid, average_acc,valid_accuracy, speed])\n",
    "            string = \"global_step %d, training/valid loss %.5g\\t%.5g; accuracy %.4g\\t%.4g; speed = %.4g lines/sec\"%(\n",
    "                    global_step, average_loss, loss_valid, average_acc, valid_accuracy, speed)\n",
    "            send2telegramm(string)\n",
    "            logger.info(string)\n",
    "            average_loss, average_acc, counter, ts = 0, 0, 0, time.time()\n",
    "\n",
    "        # append test data to train\n",
    "        if i % AFTER_NUM_STEPS_APPEND_TEST_DATA == 0 and i != 0 :\n",
    "            logger.info(\"start to append TEST data !\")\n",
    "            X_add, y_add = mark_test_data_and_extract_well_predicted()\n",
    "            logger.info(\"X_add.shape = {}\".format(X_add.shape))\n",
    "            for j in range(NUMBER_STEPS_TEST):\n",
    "                batch_test =  next_batch_from_test(BATCH_SIZE, X_add , y_add)\n",
    "                if j%num_batches ==  and j!=0:\n",
    "                    train_loss = cross_entropy.eval(session=sess, \n",
    "                            feed_dict={x:batch_test[0], y_: batch_test[1], keep_prob: 1.0})\n",
    "                    loss_valid = cross_entropy.eval(session=sess, \n",
    "                            feed_dict={x:X_valid, y_: y_valid, keep_prob: 1.0})\n",
    "                    train_accuracy = accuracy.eval(session=sess,\n",
    "                                feed_dict={x:batch_test[0], y_: batch_test[1], keep_prob: 1.0})\n",
    "                    valid_accuracy = accuracy.eval(session=sess, \n",
    "                                feed_dict={x:X_valid, y_: y_valid, keep_prob: 1.0})\n",
    "                    stats.append([global_step,train_loss, loss_valid, train_accuracy,valid_accuracy, speed])\n",
    "                    string = \"predict data: global_step %d, training/valid loss %.5g\\t%.5g; accuracy %.4g\\t%.4g; speed = %.4g lines/sec\"%(\n",
    "                            global_step, train_loss, loss_valid, train_accuracy, valid_accuracy, speed)\n",
    "                    send2telegramm(string)\n",
    "                    logger.info(string)\n",
    "\n",
    "                    saver.save(sess, join(dirname(model_path), 'with_pred/model'), \n",
    "                                    global_step=global_step)\n",
    "                    logger.info (\"predict data: global_step = {}, the model is saved\".format(global_step))\n",
    "                train_step.run(session=sess, \n",
    "                    feed_dict={x: batch_test[0], y_: batch_test[1], keep_prob: KEEP_PROB})\n",
    "                global_step += 1\n",
    "\n",
    "        if i % num_batches == 0:\n",
    "            saver.save(sess, model_path, global_step=global_step)\n",
    "            logger.info (\"global_step = {}, the model is saved\".format(global_step))\n",
    "        counter += 1\n",
    "        global_step += 1\n",
    "    \n",
    "    plot_chart(stats)\n",
    "\n",
    "    \n",
    "#plot chartsz\n",
    "#format: [i,average_loss, loss_valid, train_accuracy,valid_accuracy, speed]\n",
    "def plot_chart(stats):\n",
    "    plt.figure(figsize=(10,5))\n",
    "    steps = [a[0] for a in stats][1:]\n",
    "    train_acc = [a[3] for a in stats][1:]\n",
    "    test_acc = [a[4] for a in stats][1:]\n",
    "\n",
    "    plt.plot(steps,train_acc, label = \"train\", c='b')\n",
    "    plt.plot(steps,test_acc, label = \"test\", c='r')\n",
    "    plt.grid(True)\n",
    "    plt.title(\"accuracy VS step\", fontsize = 14)\n",
    "    plt.ylabel(\"accuracy\", fontsize = 13)\n",
    "    plt.xlabel(\"step\", fontsize = 13)\n",
    "    plt.legend()\n",
    "    plt.savefig('{}_figure.png'.format(model_path))\n",
    "\n",
    "    #save stats:\n",
    "    with open('{}_stats.txt'.format(model_path), 'w') as f:\n",
    "        string = [\"\\t\".join(map(str,el)) + \"\\n\" for el in stats]\n",
    "        f.writelines(string)\n",
    "\n",
    "if DO_TRAIN:\n",
    "    train()\n",
    "logger.info ('the training completed!')"
   ]
  },
  {
   "cell_type": "code",
   "execution_count": null,
   "metadata": {},
   "outputs": [],
   "source": []
  },
  {
   "cell_type": "code",
   "execution_count": null,
   "metadata": {},
   "outputs": [],
   "source": []
  },
  {
   "cell_type": "code",
   "execution_count": null,
   "metadata": {},
   "outputs": [],
   "source": []
  },
  {
   "cell_type": "code",
   "execution_count": null,
   "metadata": {},
   "outputs": [],
   "source": []
  },
  {
   "cell_type": "code",
   "execution_count": null,
   "metadata": {},
   "outputs": [],
   "source": []
  },
  {
   "cell_type": "markdown",
   "metadata": {},
   "source": [
    "### PREDICT"
   ]
  },
  {
   "cell_type": "code",
   "execution_count": null,
   "metadata": {},
   "outputs": [],
   "source": [
    "if DO_CUSTOM_PREDICT:\n",
    "    config=tf.ConfigProto(\n",
    "            intra_op_parallelism_threads=0,\n",
    "            inter_op_parallelism_threads=0,\n",
    "            log_device_placement=True)\n",
    "    config.gpu_options.allow_growth = True\n",
    "\n",
    "    sess = tf.Session(graph=graph, config=config)\n",
    "    _ = sess.run(init)\n",
    "\n",
    "    saver.restore(sess, tf.train.latest_checkpoint(MODEL_PATH_CUSTOM_PREDICT))\n",
    "\n",
    "    \n",
    "    #predict by batch (without such trick, Memory Error raises):\n",
    "size = 200\n",
    "batches_generator = (x_test_to_submit[i:i + size] for i in range(0, len(x_test_to_submit), size))\n",
    "\n",
    "predictions = []\n",
    "confidences = []\n",
    "\n",
    "# silence processiong (!)\n",
    "# confusion matrix on train/test/predict data\n",
    "\n",
    "binary_target = y_conv\n",
    "confes = tf.reduce_max(tf.nn.softmax(binary_target), reduction_indices=[1])\n",
    "targets = tf.argmax(binary_target,1)\n",
    "\n",
    "for test_batch in tqdm(batches_generator, total = len(x_test_to_submit)//size):\n",
    "    targs = targets.eval(session = sess, feed_dict={x:test_batch, keep_prob: 1.0})\n",
    "    confs = confes.eval(session = sess, feed_dict={x:test_batch, keep_prob: 1.0})\n",
    "\n",
    "    labels = [map_dict_reverse[x] for x in targs.tolist()]\n",
    "    predictions.extend(labels)\n",
    "    confidences.extend(confs.tolist())\n",
    "    \n",
    "#filter unknown\n",
    "predictions_filtered = [x if x in to_keep else 'unknown' for x in predictions]\n",
    "user_names = df_predict.user_names.values.tolist()"
   ]
  },
  {
   "cell_type": "code",
   "execution_count": null,
   "metadata": {},
   "outputs": [],
   "source": [
    "#process_silence\n",
    "\n",
    "df_predict = df_predict[:len(x_test_to_submit)]\n",
    "\n",
    "df_predict['preds'] = predictions_filtered\n",
    "df_predict['conf'] = confidences\n",
    "\n",
    "silence_threshold = 0.5\n",
    "df_predict.loc[:,'preds'] = df_predict.apply(lambda X: \n",
    "            'silence' if X.conf < silence_threshold else X.preds, axis = 1)\n",
    "\n",
    "df_predict.loc[:,'preds'] = df_predict.apply(lambda X: \n",
    "            'silence' if abs(X.avg_ampl) < 0.01 else X.preds, axis = 1)"
   ]
  },
  {
   "cell_type": "code",
   "execution_count": null,
   "metadata": {},
   "outputs": [],
   "source": []
  },
  {
   "cell_type": "code",
   "execution_count": null,
   "metadata": {},
   "outputs": [],
   "source": []
  },
  {
   "cell_type": "code",
   "execution_count": null,
   "metadata": {},
   "outputs": [],
   "source": [
    "#%matplotlib inline\n",
    "#df_predict.std_ampl.hist(bins = 100)\n",
    "#plt.show()"
   ]
  },
  {
   "cell_type": "code",
   "execution_count": null,
   "metadata": {},
   "outputs": [],
   "source": []
  },
  {
   "cell_type": "code",
   "execution_count": null,
   "metadata": {},
   "outputs": [],
   "source": []
  },
  {
   "cell_type": "code",
   "execution_count": null,
   "metadata": {},
   "outputs": [],
   "source": []
  },
  {
   "cell_type": "code",
   "execution_count": null,
   "metadata": {},
   "outputs": [],
   "source": [
    "suffix = datetime.datetime.today().isoformat().split(':')[0]\n",
    "df_predict.to_csv('prediction_{}.txt'.format(suffix), sep=',',\n",
    "                  columns = ['user_names', 'preds'], index=False, \n",
    "                  header = ['fname','label'])"
   ]
  },
  {
   "cell_type": "code",
   "execution_count": null,
   "metadata": {},
   "outputs": [],
   "source": []
  },
  {
   "cell_type": "code",
   "execution_count": null,
   "metadata": {},
   "outputs": [],
   "source": []
  },
  {
   "cell_type": "code",
   "execution_count": null,
   "metadata": {},
   "outputs": [],
   "source": []
  },
  {
   "cell_type": "code",
   "execution_count": null,
   "metadata": {},
   "outputs": [],
   "source": [
    "sys.exit()"
   ]
  },
  {
   "cell_type": "code",
   "execution_count": null,
   "metadata": {},
   "outputs": [],
   "source": [
    "#analysis\n",
    "df_to_analysis = df_predict[df_predict.conf < 0.3]\n",
    "df_to_analysis = df_predict[df_predict.preds == 'silence']\n",
    "\n",
    "for index, row in df_to_analysis.iterrows():\n",
    "    addr = row['train_names'] \n",
    "    print (row['preds'], row['conf'], row['avg_ampl'], row['std_ampl'])\n",
    "    ipd.display(ipd.Audio(addr, autoplay=True))\n",
    "    time.sleep(3)\n",
    "    ipd.clear_output()"
   ]
  },
  {
   "cell_type": "code",
   "execution_count": null,
   "metadata": {},
   "outputs": [],
   "source": []
  },
  {
   "cell_type": "code",
   "execution_count": null,
   "metadata": {},
   "outputs": [],
   "source": []
  },
  {
   "cell_type": "code",
   "execution_count": null,
   "metadata": {},
   "outputs": [],
   "source": []
  },
  {
   "cell_type": "code",
   "execution_count": null,
   "metadata": {},
   "outputs": [],
   "source": []
  },
  {
   "cell_type": "code",
   "execution_count": null,
   "metadata": {},
   "outputs": [],
   "source": []
  },
  {
   "cell_type": "markdown",
   "metadata": {},
   "source": [
    "*submission example*\n",
    "\n",
    "- fname,label\n",
    "- clip_000044442.wav,silence\n",
    "- clip_0000adecb.wav,silence\n",
    "- clip_0000d4322.wav,silence"
   ]
  },
  {
   "cell_type": "code",
   "execution_count": null,
   "metadata": {},
   "outputs": [],
   "source": [
    "#save results\n",
    "suffix = datetime.datetime.today().isoformat().split(':')[0]\n",
    "with open('prediction_{}.txt'.format(suffix), 'w') as f:\n",
    "    f.write(\"fname,label\\n\")  #header\n",
    "    to_save = (\"{},{}\\n\".format(a,b) for a,b in zip(user_names, predictions_filtered))\n",
    "    f.writelines(to_save)"
   ]
  },
  {
   "cell_type": "code",
   "execution_count": null,
   "metadata": {},
   "outputs": [],
   "source": []
  },
  {
   "cell_type": "markdown",
   "metadata": {
    "collapsed": true
   },
   "source": [
    "###### convert to .py script"
   ]
  },
  {
   "cell_type": "code",
   "execution_count": null,
   "metadata": {},
   "outputs": [],
   "source": [
    "!jupyter nbconvert --to script CNN.ipynb --output CNN_current"
   ]
  },
  {
   "cell_type": "code",
   "execution_count": null,
   "metadata": {},
   "outputs": [],
   "source": []
  },
  {
   "cell_type": "code",
   "execution_count": null,
   "metadata": {
    "scrolled": true
   },
   "outputs": [],
   "source": []
  },
  {
   "cell_type": "code",
   "execution_count": null,
   "metadata": {},
   "outputs": [],
   "source": []
  },
  {
   "cell_type": "code",
   "execution_count": null,
   "metadata": {},
   "outputs": [],
   "source": []
  },
  {
   "cell_type": "code",
   "execution_count": null,
   "metadata": {},
   "outputs": [],
   "source": []
  },
  {
   "cell_type": "code",
   "execution_count": null,
   "metadata": {},
   "outputs": [],
   "source": []
  },
  {
   "cell_type": "code",
   "execution_count": null,
   "metadata": {},
   "outputs": [],
   "source": []
  },
  {
   "cell_type": "code",
   "execution_count": null,
   "metadata": {},
   "outputs": [],
   "source": []
  },
  {
   "cell_type": "code",
   "execution_count": null,
   "metadata": {},
   "outputs": [],
   "source": []
  },
  {
   "cell_type": "code",
   "execution_count": null,
   "metadata": {},
   "outputs": [],
   "source": []
  },
  {
   "cell_type": "code",
   "execution_count": null,
   "metadata": {},
   "outputs": [],
   "source": [
    "  "
   ]
  },
  {
   "cell_type": "code",
   "execution_count": null,
   "metadata": {},
   "outputs": [],
   "source": []
  },
  {
   "cell_type": "code",
   "execution_count": null,
   "metadata": {},
   "outputs": [],
   "source": []
  },
  {
   "cell_type": "code",
   "execution_count": null,
   "metadata": {},
   "outputs": [],
   "source": []
  },
  {
   "cell_type": "code",
   "execution_count": null,
   "metadata": {},
   "outputs": [],
   "source": []
  },
  {
   "cell_type": "code",
   "execution_count": null,
   "metadata": {},
   "outputs": [],
   "source": []
  },
  {
   "cell_type": "code",
   "execution_count": null,
   "metadata": {},
   "outputs": [],
   "source": []
  },
  {
   "cell_type": "code",
   "execution_count": null,
   "metadata": {},
   "outputs": [],
   "source": []
  },
  {
   "cell_type": "code",
   "execution_count": null,
   "metadata": {},
   "outputs": [],
   "source": [
    "   "
   ]
  },
  {
   "cell_type": "markdown",
   "metadata": {},
   "source": [
    "#### PREDICT"
   ]
  },
  {
   "cell_type": "code",
   "execution_count": 1,
   "metadata": {},
   "outputs": [
    {
     "name": "stderr",
     "output_type": "stream",
     "text": [
      "/home/dkuzin/apps/anaconda3/lib/python3.6/importlib/_bootstrap.py:205: RuntimeWarning: compiletime version 3.5 of module 'tensorflow.python.framework.fast_tensor_util' does not match runtime version 3.6\n",
      "  return f(*args, **kwds)\n"
     ]
    }
   ],
   "source": [
    "from __future__ import absolute_import\n",
    "from __future__ import division\n",
    "from __future__ import print_function\n",
    "\n",
    "import argparse\n",
    "import os.path\n",
    "import sys\n",
    "\n",
    "import tensorflow as tf\n",
    "\n",
    "from tensorflow.contrib.framework.python.ops import audio_ops as contrib_audio\n",
    "import input_data\n",
    "import models\n",
    "from tensorflow.python.framework import graph_util\n",
    "\n",
    "from tqdm import tqdm\n",
    "from os.path import join, basename\n",
    "\n",
    "FLAGS = None\n",
    "\n",
    "\n",
    "\n",
    "WORKDIR = '/home/dkuzin/files/tensorflow_speech_recognition'\n",
    "\n",
    "train_audio_path = WORKDIR + '/train/audio/'\n",
    "test_audio_path = WORKDIR + '/test/audio/'\n",
    "to_keep = 'yes no up down left right on off stop go silence unknown'.split() \n",
    "test_names = [join(test_audio_path, f) for f in os.listdir(test_audio_path) \n",
    "                              if f.endswith('.wav')]\n",
    "user_names = [basename(f) for f in test_names]"
   ]
  },
  {
   "cell_type": "code",
   "execution_count": 2,
   "metadata": {},
   "outputs": [
    {
     "name": "stderr",
     "output_type": "stream",
     "text": [
      "10000it [00:05, 1885.31it/s]\n"
     ]
    }
   ],
   "source": [
    "#upload_all_data\n",
    "num_files_DEBAG = 10000\n",
    "data = []\n",
    "for name, full_path in tqdm(zip(user_names, test_names[:num_files_DEBAG])):\n",
    "    with open(full_path, 'rb') as wav_file:\n",
    "        wav_data = wav_file.read()\n",
    "        data.append(wav_data)"
   ]
  },
  {
   "cell_type": "code",
   "execution_count": 3,
   "metadata": {},
   "outputs": [],
   "source": [
    "def load_labels(filename):\n",
    "  \"\"\"Read in labels, one label per line.\"\"\"\n",
    "  return [line.rstrip() for line in tf.gfile.GFile(filename)]"
   ]
  },
  {
   "cell_type": "code",
   "execution_count": 4,
   "metadata": {},
   "outputs": [
    {
     "data": {
      "text/plain": [
       "\"['_silence_', '_unknown_', 'yes', 'no', 'up', 'down', 'left', 'right', 'on', 'off', 'stop', 'go']\""
      ]
     },
     "execution_count": 4,
     "metadata": {},
     "output_type": "execute_result"
    }
   ],
   "source": [
    "filename = (\"/home/dkuzin/files/tensorflow_speech_recognition/\"\n",
    "            \"saved_models/conv3_labels.txt\")\n",
    "labels_list = load_labels(filename)\n",
    "str(labels_list)"
   ]
  },
  {
   "cell_type": "code",
   "execution_count": 5,
   "metadata": {},
   "outputs": [],
   "source": [
    "class FLAGS:\n",
    "    def __init__(self):\n",
    "        self.sample_rate = 16000\n",
    "        self.clip_duration_ms = 1000\n",
    "        self.clip_stride_ms = 30\n",
    "        self.window_size_ms = 30.\n",
    "        self.window_stride_ms = 10.\n",
    "        self.dct_coefficient_count = 40\n",
    "        self.start_checkpoint = (\n",
    "            \"/home/dkuzin/files/tensorflow_speech_recognition/\"\n",
    "            \"saved_models/conv.ckpt-9\")\n",
    "        self.model_architecture = 'conv'\n",
    "        self.wanted_words = 'yes,no,up,down,left,right,on,off,stop,go'\n",
    "        self.output_file = '/home/dkuzin/predictions/file_name.txt'\n",
    "FLAGS = FLAGS()"
   ]
  },
  {
   "cell_type": "code",
   "execution_count": 6,
   "metadata": {},
   "outputs": [],
   "source": [
    "def create_inference_graph(wanted_words, sample_rate, clip_duration_ms,\n",
    "                           clip_stride_ms, window_size_ms, window_stride_ms,\n",
    "                           dct_coefficient_count, model_architecture):\n",
    "    \"\"\"Creates an audio model with the nodes needed for inference.\n",
    "\n",
    "    Uses the supplied arguments to create a model, and inserts the input and\n",
    "    output nodes that are needed to use the graph for inference.\n",
    "\n",
    "    Args:\n",
    "    wanted_words: Comma-separated list of the words we're trying to recognize.\n",
    "    sample_rate: How many samples per second are in the input audio files.\n",
    "    clip_duration_ms: How many samples to analyze for the audio pattern.\n",
    "    clip_stride_ms: How often to run recognition. Useful for models with cache.\n",
    "    window_size_ms: Time slice duration to estimate frequencies from.\n",
    "    window_stride_ms: How far apart time slices should be.\n",
    "    dct_coefficient_count: Number of frequency bands to analyze.\n",
    "    model_architecture: Name of the kind of model to generate.\n",
    "    \"\"\"\n",
    "    \n",
    "    graph = tf.Graph()\n",
    "    with graph.as_default():\n",
    "        words_list = input_data.prepare_words_list(wanted_words.split(','))\n",
    "        model_settings = models.prepare_model_settings(\n",
    "          len(words_list), sample_rate, clip_duration_ms, window_size_ms,\n",
    "          window_stride_ms, dct_coefficient_count)\n",
    "        runtime_settings = {'clip_stride_ms': clip_stride_ms}\n",
    "\n",
    "        wav_data_placeholder = tf.placeholder(\n",
    "                        tf.string, [], name='wav_data')\n",
    "        decoded_sample_data = contrib_audio.decode_wav(\n",
    "          wav_data_placeholder,\n",
    "          desired_channels=1,\n",
    "          desired_samples=model_settings['desired_samples'],\n",
    "          name='decoded_sample_data')\n",
    "        spectrogram = contrib_audio.audio_spectrogram(\n",
    "          decoded_sample_data.audio,\n",
    "          window_size=model_settings['window_size_samples'],\n",
    "          stride=model_settings['window_stride_samples'],\n",
    "          magnitude_squared=True)\n",
    "        fingerprint_input = contrib_audio.mfcc(\n",
    "          spectrogram,\n",
    "          decoded_sample_data.sample_rate,\n",
    "          dct_coefficient_count=dct_coefficient_count)\n",
    "        fingerprint_frequency_size = model_settings['dct_coefficient_count']\n",
    "        fingerprint_time_size = model_settings['spectrogram_length']\n",
    "        reshaped_input = tf.reshape(fingerprint_input, [\n",
    "          -1, fingerprint_time_size * fingerprint_frequency_size\n",
    "        ])\n",
    "\n",
    "        logits = models.create_model(\n",
    "          reshaped_input, model_settings, model_architecture, \n",
    "                    is_training=False, runtime_settings=runtime_settings)\n",
    "\n",
    "        # Create an output to use for inference.\n",
    "        tf.nn.softmax(logits, name='labels_softmax')\n",
    "    return graph"
   ]
  },
  {
   "cell_type": "code",
   "execution_count": 7,
   "metadata": {},
   "outputs": [],
   "source": [
    "gr = create_inference_graph(\n",
    "    FLAGS.wanted_words, FLAGS.sample_rate,\n",
    "    FLAGS.clip_duration_ms, FLAGS.clip_stride_ms,\n",
    "    FLAGS.window_size_ms, FLAGS.window_stride_ms,\n",
    "    FLAGS.dct_coefficient_count, FLAGS.model_architecture)"
   ]
  },
  {
   "cell_type": "code",
   "execution_count": 24,
   "metadata": {
    "scrolled": true
   },
   "outputs": [
    {
     "name": "stdout",
     "output_type": "stream",
     "text": [
      "INFO:tensorflow:Restoring parameters from /home/dkuzin/files/tensorflow_speech_recognition/saved_models/conv.ckpt-9\n"
     ]
    },
    {
     "name": "stderr",
     "output_type": "stream",
     "text": [
      "100%|██████████| 10000/10000 [03:15<00:00, 51.08it/s]\n"
     ]
    }
   ],
   "source": [
    "config=tf.ConfigProto(\n",
    "        intra_op_parallelism_threads=0,\n",
    "        inter_op_parallelism_threads=0,\n",
    "        log_device_placement=True)\n",
    "config.gpu_options.allow_growth = True\n",
    "\n",
    "num_top_predictions = 3\n",
    "labels = labels_list\n",
    "\n",
    "with tf.Session(graph=gr, config=config) as sess:\n",
    "    models.load_variables_from_checkpoint(sess, FLAGS.start_checkpoint)\n",
    "    \n",
    "    tf.global_variables_initializer().run()\n",
    "    output_layer_name = \"labels_softmax:0\"\n",
    "    softmax_tensor = sess.graph.get_tensor_by_name(output_layer_name)\n",
    "    \n",
    "    res = []\n",
    "    for i, binary in tqdm(enumerate(data), total=len(data)):\n",
    "        predictions = sess.run(softmax_tensor, \n",
    "                            feed_dict={'wav_data:0': binary})\n",
    "        # Sort to show labels in order of confidence\n",
    "        imd_max = predictions[0].argmax()\n",
    "        human_string = labels[imd_max]\n",
    "        file_name = user_names[i]\n",
    "        score = predictions[0][imd_max]\n",
    "        res.append((file_name, human_string, score))"
   ]
  },
  {
   "cell_type": "code",
   "execution_count": 73,
   "metadata": {},
   "outputs": [],
   "source": [
    "import pandas as pd\n",
    "import datetime\n",
    "df = pd.DataFrame(res, columns = ['name','pred','score'])\n",
    "df.loc[:,'pred'] = df.pred.apply(lambda x: x.strip('_'))\n",
    "\n",
    "suffix = datetime.datetime.today().isoformat().split(':')[0]\n",
    "df.to_csv('prediction_{}.txt'.format(suffix), sep=',',\n",
    "                  columns = ['name', 'pred'], index=False, \n",
    "                  header = ['fname','label'])"
   ]
  },
  {
   "cell_type": "code",
   "execution_count": 83,
   "metadata": {},
   "outputs": [],
   "source": [
    "predictions = predictions[0]"
   ]
  },
  {
   "cell_type": "code",
   "execution_count": 84,
   "metadata": {},
   "outputs": [
    {
     "data": {
      "text/plain": [
       "array([ 0.08642657,  0.07290708,  0.06629921,  0.06999502,  0.07187109,\n",
       "        0.07884863,  0.10164592,  0.11838709,  0.07807236,  0.08114801,\n",
       "        0.09346082,  0.08093826], dtype=float32)"
      ]
     },
     "execution_count": 84,
     "metadata": {},
     "output_type": "execute_result"
    }
   ],
   "source": [
    "predictions"
   ]
  },
  {
   "cell_type": "code",
   "execution_count": 85,
   "metadata": {},
   "outputs": [
    {
     "data": {
      "text/plain": [
       "7"
      ]
     },
     "execution_count": 85,
     "metadata": {},
     "output_type": "execute_result"
    }
   ],
   "source": [
    "predictions.argmax()"
   ]
  },
  {
   "cell_type": "code",
   "execution_count": 88,
   "metadata": {},
   "outputs": [
    {
     "data": {
      "text/plain": [
       "('clip_1ba25f2c9.wav', 'right', 0.14234568)"
      ]
     },
     "execution_count": 88,
     "metadata": {},
     "output_type": "execute_result"
    }
   ],
   "source": [
    "res[0]"
   ]
  },
  {
   "cell_type": "code",
   "execution_count": 87,
   "metadata": {},
   "outputs": [
    {
     "data": {
      "text/html": [
       "<div>\n",
       "<style>\n",
       "    .dataframe thead tr:only-child th {\n",
       "        text-align: right;\n",
       "    }\n",
       "\n",
       "    .dataframe thead th {\n",
       "        text-align: left;\n",
       "    }\n",
       "\n",
       "    .dataframe tbody tr th {\n",
       "        vertical-align: top;\n",
       "    }\n",
       "</style>\n",
       "<table border=\"1\" class=\"dataframe\">\n",
       "  <thead>\n",
       "    <tr style=\"text-align: right;\">\n",
       "      <th></th>\n",
       "      <th>name</th>\n",
       "      <th>pred</th>\n",
       "      <th>score</th>\n",
       "    </tr>\n",
       "  </thead>\n",
       "  <tbody>\n",
       "    <tr>\n",
       "      <th>0</th>\n",
       "      <td>clip_1ba25f2c9.wav</td>\n",
       "      <td>right</td>\n",
       "      <td>0.142346</td>\n",
       "    </tr>\n",
       "    <tr>\n",
       "      <th>1</th>\n",
       "      <td>clip_6dc264aa2.wav</td>\n",
       "      <td>right</td>\n",
       "      <td>0.106400</td>\n",
       "    </tr>\n",
       "    <tr>\n",
       "      <th>2</th>\n",
       "      <td>clip_bfcfceed4.wav</td>\n",
       "      <td>right</td>\n",
       "      <td>0.104031</td>\n",
       "    </tr>\n",
       "    <tr>\n",
       "      <th>3</th>\n",
       "      <td>clip_836995727.wav</td>\n",
       "      <td>right</td>\n",
       "      <td>0.136066</td>\n",
       "    </tr>\n",
       "    <tr>\n",
       "      <th>4</th>\n",
       "      <td>clip_04de60133.wav</td>\n",
       "      <td>right</td>\n",
       "      <td>0.108207</td>\n",
       "    </tr>\n",
       "    <tr>\n",
       "      <th>5</th>\n",
       "      <td>clip_fa6dfdac0.wav</td>\n",
       "      <td>right</td>\n",
       "      <td>0.149808</td>\n",
       "    </tr>\n",
       "    <tr>\n",
       "      <th>6</th>\n",
       "      <td>clip_0744e60bf.wav</td>\n",
       "      <td>right</td>\n",
       "      <td>0.108025</td>\n",
       "    </tr>\n",
       "    <tr>\n",
       "      <th>7</th>\n",
       "      <td>clip_4836e2033.wav</td>\n",
       "      <td>right</td>\n",
       "      <td>0.113236</td>\n",
       "    </tr>\n",
       "    <tr>\n",
       "      <th>8</th>\n",
       "      <td>clip_89872a949.wav</td>\n",
       "      <td>right</td>\n",
       "      <td>0.107450</td>\n",
       "    </tr>\n",
       "    <tr>\n",
       "      <th>9</th>\n",
       "      <td>clip_cbd72436c.wav</td>\n",
       "      <td>right</td>\n",
       "      <td>0.119308</td>\n",
       "    </tr>\n",
       "    <tr>\n",
       "      <th>10</th>\n",
       "      <td>clip_8501517e0.wav</td>\n",
       "      <td>right</td>\n",
       "      <td>0.100799</td>\n",
       "    </tr>\n",
       "    <tr>\n",
       "      <th>11</th>\n",
       "      <td>clip_07df6f920.wav</td>\n",
       "      <td>right</td>\n",
       "      <td>0.104804</td>\n",
       "    </tr>\n",
       "    <tr>\n",
       "      <th>12</th>\n",
       "      <td>clip_58efe2902.wav</td>\n",
       "      <td>right</td>\n",
       "      <td>0.104540</td>\n",
       "    </tr>\n",
       "    <tr>\n",
       "      <th>13</th>\n",
       "      <td>clip_c1a3dfe1c.wav</td>\n",
       "      <td>right</td>\n",
       "      <td>0.104417</td>\n",
       "    </tr>\n",
       "    <tr>\n",
       "      <th>14</th>\n",
       "      <td>clip_db888d393.wav</td>\n",
       "      <td>right</td>\n",
       "      <td>0.155743</td>\n",
       "    </tr>\n",
       "    <tr>\n",
       "      <th>15</th>\n",
       "      <td>clip_0ad3ff22e.wav</td>\n",
       "      <td>right</td>\n",
       "      <td>0.119710</td>\n",
       "    </tr>\n",
       "    <tr>\n",
       "      <th>16</th>\n",
       "      <td>clip_206a2b5c4.wav</td>\n",
       "      <td>right</td>\n",
       "      <td>0.103400</td>\n",
       "    </tr>\n",
       "    <tr>\n",
       "      <th>17</th>\n",
       "      <td>clip_69920c898.wav</td>\n",
       "      <td>silence</td>\n",
       "      <td>0.099175</td>\n",
       "    </tr>\n",
       "    <tr>\n",
       "      <th>18</th>\n",
       "      <td>clip_fec307a92.wav</td>\n",
       "      <td>right</td>\n",
       "      <td>0.108445</td>\n",
       "    </tr>\n",
       "    <tr>\n",
       "      <th>19</th>\n",
       "      <td>clip_fda8aee4f.wav</td>\n",
       "      <td>right</td>\n",
       "      <td>0.113712</td>\n",
       "    </tr>\n",
       "    <tr>\n",
       "      <th>20</th>\n",
       "      <td>clip_d67ca908d.wav</td>\n",
       "      <td>left</td>\n",
       "      <td>0.105788</td>\n",
       "    </tr>\n",
       "    <tr>\n",
       "      <th>21</th>\n",
       "      <td>clip_60f064852.wav</td>\n",
       "      <td>right</td>\n",
       "      <td>0.140779</td>\n",
       "    </tr>\n",
       "    <tr>\n",
       "      <th>22</th>\n",
       "      <td>clip_3b967bf5a.wav</td>\n",
       "      <td>right</td>\n",
       "      <td>0.183308</td>\n",
       "    </tr>\n",
       "    <tr>\n",
       "      <th>23</th>\n",
       "      <td>clip_e02864a7e.wav</td>\n",
       "      <td>left</td>\n",
       "      <td>0.093607</td>\n",
       "    </tr>\n",
       "    <tr>\n",
       "      <th>24</th>\n",
       "      <td>clip_37d27a026.wav</td>\n",
       "      <td>right</td>\n",
       "      <td>0.097957</td>\n",
       "    </tr>\n",
       "    <tr>\n",
       "      <th>25</th>\n",
       "      <td>clip_3a2af6a97.wav</td>\n",
       "      <td>right</td>\n",
       "      <td>0.133703</td>\n",
       "    </tr>\n",
       "    <tr>\n",
       "      <th>26</th>\n",
       "      <td>clip_049a584af.wav</td>\n",
       "      <td>right</td>\n",
       "      <td>0.115635</td>\n",
       "    </tr>\n",
       "    <tr>\n",
       "      <th>27</th>\n",
       "      <td>clip_03e087ee5.wav</td>\n",
       "      <td>right</td>\n",
       "      <td>0.106313</td>\n",
       "    </tr>\n",
       "    <tr>\n",
       "      <th>28</th>\n",
       "      <td>clip_dd7ecc13d.wav</td>\n",
       "      <td>right</td>\n",
       "      <td>0.103576</td>\n",
       "    </tr>\n",
       "    <tr>\n",
       "      <th>29</th>\n",
       "      <td>clip_75e32e343.wav</td>\n",
       "      <td>right</td>\n",
       "      <td>0.114878</td>\n",
       "    </tr>\n",
       "    <tr>\n",
       "      <th>...</th>\n",
       "      <td>...</td>\n",
       "      <td>...</td>\n",
       "      <td>...</td>\n",
       "    </tr>\n",
       "    <tr>\n",
       "      <th>9970</th>\n",
       "      <td>clip_e177b1569.wav</td>\n",
       "      <td>silence</td>\n",
       "      <td>0.107098</td>\n",
       "    </tr>\n",
       "    <tr>\n",
       "      <th>9971</th>\n",
       "      <td>clip_ef831e0ca.wav</td>\n",
       "      <td>right</td>\n",
       "      <td>0.110999</td>\n",
       "    </tr>\n",
       "    <tr>\n",
       "      <th>9972</th>\n",
       "      <td>clip_9fb33f250.wav</td>\n",
       "      <td>right</td>\n",
       "      <td>0.137210</td>\n",
       "    </tr>\n",
       "    <tr>\n",
       "      <th>9973</th>\n",
       "      <td>clip_d5c88fcaa.wav</td>\n",
       "      <td>right</td>\n",
       "      <td>0.118558</td>\n",
       "    </tr>\n",
       "    <tr>\n",
       "      <th>9974</th>\n",
       "      <td>clip_9df9d0f91.wav</td>\n",
       "      <td>right</td>\n",
       "      <td>0.111398</td>\n",
       "    </tr>\n",
       "    <tr>\n",
       "      <th>9975</th>\n",
       "      <td>clip_4dbeb6538.wav</td>\n",
       "      <td>right</td>\n",
       "      <td>0.101969</td>\n",
       "    </tr>\n",
       "    <tr>\n",
       "      <th>9976</th>\n",
       "      <td>clip_f0cc6ff26.wav</td>\n",
       "      <td>right</td>\n",
       "      <td>0.179050</td>\n",
       "    </tr>\n",
       "    <tr>\n",
       "      <th>9977</th>\n",
       "      <td>clip_7c5afb998.wav</td>\n",
       "      <td>right</td>\n",
       "      <td>0.607799</td>\n",
       "    </tr>\n",
       "    <tr>\n",
       "      <th>9978</th>\n",
       "      <td>clip_6e6e074e7.wav</td>\n",
       "      <td>right</td>\n",
       "      <td>0.128595</td>\n",
       "    </tr>\n",
       "    <tr>\n",
       "      <th>9979</th>\n",
       "      <td>clip_8251e1f89.wav</td>\n",
       "      <td>right</td>\n",
       "      <td>0.112012</td>\n",
       "    </tr>\n",
       "    <tr>\n",
       "      <th>9980</th>\n",
       "      <td>clip_688ac9eeb.wav</td>\n",
       "      <td>right</td>\n",
       "      <td>0.104075</td>\n",
       "    </tr>\n",
       "    <tr>\n",
       "      <th>9981</th>\n",
       "      <td>clip_bbb84d15c.wav</td>\n",
       "      <td>right</td>\n",
       "      <td>0.109177</td>\n",
       "    </tr>\n",
       "    <tr>\n",
       "      <th>9982</th>\n",
       "      <td>clip_1a18c03b3.wav</td>\n",
       "      <td>left</td>\n",
       "      <td>0.094986</td>\n",
       "    </tr>\n",
       "    <tr>\n",
       "      <th>9983</th>\n",
       "      <td>clip_2d6826dfd.wav</td>\n",
       "      <td>go</td>\n",
       "      <td>0.095415</td>\n",
       "    </tr>\n",
       "    <tr>\n",
       "      <th>9984</th>\n",
       "      <td>clip_062c7ef8a.wav</td>\n",
       "      <td>off</td>\n",
       "      <td>0.099951</td>\n",
       "    </tr>\n",
       "    <tr>\n",
       "      <th>9985</th>\n",
       "      <td>clip_c21540f95.wav</td>\n",
       "      <td>right</td>\n",
       "      <td>0.183159</td>\n",
       "    </tr>\n",
       "    <tr>\n",
       "      <th>9986</th>\n",
       "      <td>clip_63e36c8eb.wav</td>\n",
       "      <td>left</td>\n",
       "      <td>0.110231</td>\n",
       "    </tr>\n",
       "    <tr>\n",
       "      <th>9987</th>\n",
       "      <td>clip_dec40874d.wav</td>\n",
       "      <td>silence</td>\n",
       "      <td>0.102892</td>\n",
       "    </tr>\n",
       "    <tr>\n",
       "      <th>9988</th>\n",
       "      <td>clip_b07242a52.wav</td>\n",
       "      <td>right</td>\n",
       "      <td>0.126934</td>\n",
       "    </tr>\n",
       "    <tr>\n",
       "      <th>9989</th>\n",
       "      <td>clip_df7136d60.wav</td>\n",
       "      <td>right</td>\n",
       "      <td>0.113555</td>\n",
       "    </tr>\n",
       "    <tr>\n",
       "      <th>9990</th>\n",
       "      <td>clip_9ba68d0c8.wav</td>\n",
       "      <td>right</td>\n",
       "      <td>0.183766</td>\n",
       "    </tr>\n",
       "    <tr>\n",
       "      <th>9991</th>\n",
       "      <td>clip_a81a92403.wav</td>\n",
       "      <td>stop</td>\n",
       "      <td>0.097108</td>\n",
       "    </tr>\n",
       "    <tr>\n",
       "      <th>9992</th>\n",
       "      <td>clip_6724db6f0.wav</td>\n",
       "      <td>right</td>\n",
       "      <td>0.102153</td>\n",
       "    </tr>\n",
       "    <tr>\n",
       "      <th>9993</th>\n",
       "      <td>clip_a9cc8fb9b.wav</td>\n",
       "      <td>right</td>\n",
       "      <td>0.117115</td>\n",
       "    </tr>\n",
       "    <tr>\n",
       "      <th>9994</th>\n",
       "      <td>clip_a8fa8a5f3.wav</td>\n",
       "      <td>right</td>\n",
       "      <td>0.182248</td>\n",
       "    </tr>\n",
       "    <tr>\n",
       "      <th>9995</th>\n",
       "      <td>clip_9236a6e0b.wav</td>\n",
       "      <td>right</td>\n",
       "      <td>0.126961</td>\n",
       "    </tr>\n",
       "    <tr>\n",
       "      <th>9996</th>\n",
       "      <td>clip_b186fad3f.wav</td>\n",
       "      <td>right</td>\n",
       "      <td>0.111041</td>\n",
       "    </tr>\n",
       "    <tr>\n",
       "      <th>9997</th>\n",
       "      <td>clip_469b92390.wav</td>\n",
       "      <td>right</td>\n",
       "      <td>0.117492</td>\n",
       "    </tr>\n",
       "    <tr>\n",
       "      <th>9998</th>\n",
       "      <td>clip_ff9d51796.wav</td>\n",
       "      <td>right</td>\n",
       "      <td>0.123054</td>\n",
       "    </tr>\n",
       "    <tr>\n",
       "      <th>9999</th>\n",
       "      <td>clip_e857c5709.wav</td>\n",
       "      <td>right</td>\n",
       "      <td>0.118387</td>\n",
       "    </tr>\n",
       "  </tbody>\n",
       "</table>\n",
       "<p>10000 rows × 3 columns</p>\n",
       "</div>"
      ],
      "text/plain": [
       "                    name     pred     score\n",
       "0     clip_1ba25f2c9.wav    right  0.142346\n",
       "1     clip_6dc264aa2.wav    right  0.106400\n",
       "2     clip_bfcfceed4.wav    right  0.104031\n",
       "3     clip_836995727.wav    right  0.136066\n",
       "4     clip_04de60133.wav    right  0.108207\n",
       "5     clip_fa6dfdac0.wav    right  0.149808\n",
       "6     clip_0744e60bf.wav    right  0.108025\n",
       "7     clip_4836e2033.wav    right  0.113236\n",
       "8     clip_89872a949.wav    right  0.107450\n",
       "9     clip_cbd72436c.wav    right  0.119308\n",
       "10    clip_8501517e0.wav    right  0.100799\n",
       "11    clip_07df6f920.wav    right  0.104804\n",
       "12    clip_58efe2902.wav    right  0.104540\n",
       "13    clip_c1a3dfe1c.wav    right  0.104417\n",
       "14    clip_db888d393.wav    right  0.155743\n",
       "15    clip_0ad3ff22e.wav    right  0.119710\n",
       "16    clip_206a2b5c4.wav    right  0.103400\n",
       "17    clip_69920c898.wav  silence  0.099175\n",
       "18    clip_fec307a92.wav    right  0.108445\n",
       "19    clip_fda8aee4f.wav    right  0.113712\n",
       "20    clip_d67ca908d.wav     left  0.105788\n",
       "21    clip_60f064852.wav    right  0.140779\n",
       "22    clip_3b967bf5a.wav    right  0.183308\n",
       "23    clip_e02864a7e.wav     left  0.093607\n",
       "24    clip_37d27a026.wav    right  0.097957\n",
       "25    clip_3a2af6a97.wav    right  0.133703\n",
       "26    clip_049a584af.wav    right  0.115635\n",
       "27    clip_03e087ee5.wav    right  0.106313\n",
       "28    clip_dd7ecc13d.wav    right  0.103576\n",
       "29    clip_75e32e343.wav    right  0.114878\n",
       "...                  ...      ...       ...\n",
       "9970  clip_e177b1569.wav  silence  0.107098\n",
       "9971  clip_ef831e0ca.wav    right  0.110999\n",
       "9972  clip_9fb33f250.wav    right  0.137210\n",
       "9973  clip_d5c88fcaa.wav    right  0.118558\n",
       "9974  clip_9df9d0f91.wav    right  0.111398\n",
       "9975  clip_4dbeb6538.wav    right  0.101969\n",
       "9976  clip_f0cc6ff26.wav    right  0.179050\n",
       "9977  clip_7c5afb998.wav    right  0.607799\n",
       "9978  clip_6e6e074e7.wav    right  0.128595\n",
       "9979  clip_8251e1f89.wav    right  0.112012\n",
       "9980  clip_688ac9eeb.wav    right  0.104075\n",
       "9981  clip_bbb84d15c.wav    right  0.109177\n",
       "9982  clip_1a18c03b3.wav     left  0.094986\n",
       "9983  clip_2d6826dfd.wav       go  0.095415\n",
       "9984  clip_062c7ef8a.wav      off  0.099951\n",
       "9985  clip_c21540f95.wav    right  0.183159\n",
       "9986  clip_63e36c8eb.wav     left  0.110231\n",
       "9987  clip_dec40874d.wav  silence  0.102892\n",
       "9988  clip_b07242a52.wav    right  0.126934\n",
       "9989  clip_df7136d60.wav    right  0.113555\n",
       "9990  clip_9ba68d0c8.wav    right  0.183766\n",
       "9991  clip_a81a92403.wav     stop  0.097108\n",
       "9992  clip_6724db6f0.wav    right  0.102153\n",
       "9993  clip_a9cc8fb9b.wav    right  0.117115\n",
       "9994  clip_a8fa8a5f3.wav    right  0.182248\n",
       "9995  clip_9236a6e0b.wav    right  0.126961\n",
       "9996  clip_b186fad3f.wav    right  0.111041\n",
       "9997  clip_469b92390.wav    right  0.117492\n",
       "9998  clip_ff9d51796.wav    right  0.123054\n",
       "9999  clip_e857c5709.wav    right  0.118387\n",
       "\n",
       "[10000 rows x 3 columns]"
      ]
     },
     "execution_count": 87,
     "metadata": {},
     "output_type": "execute_result"
    }
   ],
   "source": [
    "df"
   ]
  },
  {
   "cell_type": "code",
   "execution_count": null,
   "metadata": {
    "scrolled": false
   },
   "outputs": [],
   "source": []
  },
  {
   "cell_type": "code",
   "execution_count": null,
   "metadata": {},
   "outputs": [],
   "source": []
  },
  {
   "cell_type": "code",
   "execution_count": null,
   "metadata": {},
   "outputs": [],
   "source": []
  },
  {
   "cell_type": "code",
   "execution_count": null,
   "metadata": {},
   "outputs": [],
   "source": []
  },
  {
   "cell_type": "code",
   "execution_count": null,
   "metadata": {},
   "outputs": [],
   "source": []
  },
  {
   "cell_type": "code",
   "execution_count": null,
   "metadata": {},
   "outputs": [],
   "source": []
  },
  {
   "cell_type": "code",
   "execution_count": null,
   "metadata": {},
   "outputs": [],
   "source": []
  },
  {
   "cell_type": "code",
   "execution_count": null,
   "metadata": {},
   "outputs": [],
   "source": []
  },
  {
   "cell_type": "code",
   "execution_count": null,
   "metadata": {},
   "outputs": [],
   "source": []
  },
  {
   "cell_type": "code",
   "execution_count": null,
   "metadata": {
    "scrolled": false
   },
   "outputs": [],
   "source": []
  },
  {
   "cell_type": "code",
   "execution_count": null,
   "metadata": {
    "scrolled": false
   },
   "outputs": [],
   "source": [
    "import seaborn as sns\n",
    "import pandas as pd\n",
    "import matplotlib.pyplot as plt\n",
    "\n",
    "a =  \"\"\"  [[130   0   0   0   0   0   0   0   0   0   0   0]\n",
    " [  1  97   5   2   0   7   2   6   5   0   1   4]\n",
    " [  3   1 124   2   0   1   2   0   0   0   0   0]\n",
    " [  0   2   3 127   0   2   1   0   0   0   0   5]\n",
    " [  2   0   0   0 119   0   0   0   0   1   3   1]\n",
    " [  0   1   0   3   0 122   0   0   0   0   2   0]\n",
    " [  1   0   4   0   1   0 114   2   0   0   0   0]\n",
    " [  0   2   0   0   1   0   2 128   0   0   0   0]\n",
    " [  3   2   0   0   1   0   0   0 123   0   0   0]\n",
    " [  0   0   0   0   6   0   2   0   2 121   1   0]\n",
    " [  2   0   0   0   3   0   0   0   0   1 120   1]\n",
    " [  3   5   0  13   1   8   0   1   0   1   1  90]]\n",
    "\"\"\"\n",
    "\n",
    "l = eval(a.strip().replace('\\n', ',').replace(' ',',').\n",
    "         replace(',,',',').replace(',,',',').replace(',,',',').\n",
    "         replace(',,',',').replace('[,','['))\n",
    "\n",
    "default = 'yes,no,up,down,left,right,on,off,stop,go'.split(',')\n",
    "default =  ['silence', 'unknown'] + default\n",
    "\n",
    "\n",
    "array = l\n",
    "df_cm = pd.DataFrame(array, index = default, columns = default)\n",
    "_ = plt.figure(figsize = (11,10))\n",
    "sns.heatmap(df_cm, annot=True, fmt='.0f', \n",
    "            linewidths=0.01)\n",
    "plt.xticks(rotation=90)\n",
    "plt.yticks(rotation=0)\n",
    "plt.xlabel('predict', size = 15)\n",
    "plt.ylabel('actual', size = 15)\n",
    "plt.show()"
   ]
  },
  {
   "cell_type": "code",
   "execution_count": 15,
   "metadata": {},
   "outputs": [
    {
     "data": {
      "image/png": "[encoded data removed]",
      "text/plain": [
       "<matplotlib.figure.Figure at 0x7fdde315d2b0>"
      ]
     },
     "metadata": {},
     "output_type": "display_data"
    }
   ],
   "source": [
    "import seaborn as sns\n",
    "import pandas as pd\n",
    "import matplotlib.pyplot as plt\n",
    "\n",
    "a =  \"\"\"  [[129   0   0   0   0   0   0   0   0   0   0   0]\n",
    " [  2  91   1   1   2   7   4   1   8   2   2   8]\n",
    " [  0   1 122   1   0   2   1   1   0   0   0   0]\n",
    " [  0   6   2 105   2   0   2   0   0   0   1  12]\n",
    " [  2   3   0   0 118   0   2   2   0   5   2   0]\n",
    " [  1   3   1  12   0 109   0   0   0   0   1   9]\n",
    " [  0   1   8   2   0   0 111   3   0   0   0   0]\n",
    " [  0   5   0   1   1   0   3 112   1   0   0   0]\n",
    " [  1   3   0   0   2   1   0   0 116   4   0   1]\n",
    " [  1   1   0   0  16   0   1   1   2 101   0   1]\n",
    " [  0   3   0   1   8   4   2   0   0   1  99   1]\n",
    " [  5   2   0   5   0   2   1   1   0   2   0 119]]\"\"\"\n",
    "\n",
    "l = eval(a.strip().replace('\\n', ',').replace(' ',',').\n",
    "         replace(',,',',').replace(',,',',').replace(',,',',').\n",
    "         replace(',,',',').replace('[,','['))\n",
    "\n",
    "default = 'yes,no,up,down,left,right,on,off,stop,go'.split(',')\n",
    "default =  ['silence', 'unknown'] + default\n",
    "\n",
    "\n",
    "array = l\n",
    "df_cm = pd.DataFrame(array, index = default, columns = default)\n",
    "_ = plt.figure(figsize = (11,10))\n",
    "sns.heatmap(df_cm, annot=True, fmt='.0f', \n",
    "            linewidths=0.01)\n",
    "plt.xticks(rotation=90)\n",
    "plt.yticks(rotation=0)\n",
    "plt.xlabel('predict', size = 15)\n",
    "plt.ylabel('actual', size = 15)\n",
    "plt.show()"
   ]
  },
  {
   "cell_type": "code",
   "execution_count": null,
   "metadata": {},
   "outputs": [],
   "source": []
  },
  {
   "cell_type": "code",
   "execution_count": null,
   "metadata": {},
   "outputs": [],
   "source": []
  },
  {
   "cell_type": "code",
   "execution_count": 1,
   "metadata": {},
   "outputs": [
    {
     "name": "stderr",
     "output_type": "stream",
     "text": [
      "/home/dkuzin/apps/anaconda3/lib/python3.6/importlib/_bootstrap.py:205: RuntimeWarning: compiletime version 3.5 of module 'tensorflow.python.framework.fast_tensor_util' does not match runtime version 3.6\n",
      "  return f(*args, **kwds)\n"
     ]
    }
   ],
   "source": [
    "from __future__ import absolute_import\n",
    "from __future__ import division\n",
    "from __future__ import print_function\n",
    "\n",
    "import argparse\n",
    "import os.path\n",
    "import sys\n",
    "\n",
    "import numpy as np\n",
    "from six.moves import xrange\n",
    "import tensorflow as tf\n",
    "\n",
    "import input_data\n",
    "import models\n",
    "from tensorflow.python.platform import gfile\n",
    "\n",
    "FLAGS = None"
   ]
  },
  {
   "cell_type": "code",
   "execution_count": 2,
   "metadata": {},
   "outputs": [],
   "source": [
    "class FLAGS:\n",
    "    def __init__(self):\n",
    "        self.data_dir = \"/home/dkuzin/files/tensorflow_speech_recognition/train/audio\"\n",
    "        self.testing_percentage = 5\n",
    "        self.validation_percentage = 5\n",
    "        self.how_many_training_steps = \"15000,25000,25000\"\n",
    "        self.learning_rate = \"0.001,0.0001,0.00001\"\n",
    "        self.batch_size = 200\n",
    "        self.eval_step_interval = 400\n",
    "        self.train_dir = \"/home/dkuzin/files/tensorflow_speech_recognition/saved_models/calc_test\"\n",
    "        self.save_step_interval = 400\n",
    "        self.model_architecture = \"conv\"\n",
    "        self.summaries_dir = \"/home/dkuzin/files/tensorflow_speech_recognition/board\"\n",
    "        self.data_url = 'http://download.tensorflow.org/data/speech_commands_v0.01.tar.gz'\n",
    "        self.silence_percentage = 10.\n",
    "        self.unknown_percentage = 10.\n",
    "        self.wanted_words = 'yes,no,up,down,left,right,on,off,stop,go'\n",
    "        self.sample_rate = 16000\n",
    "        self.clip_duration_ms = 1000\n",
    "        self.window_size_ms = 30.\n",
    "        self.window_stride_ms = 10.\n",
    "        self.dct_coefficient_count = 40\n",
    "        self.data_dir = \"/home/dkuzin/files/tensorflow_speech_recognition/train/audio/\"\n",
    "        self.background_frequency = 0.8\n",
    "        self.background_volume = 0.1\n",
    "        self.time_shift_ms = 100\n",
    "        self.predict_dir = '/home/dkuzin/files/tensorflow_speech_recognition/test/audio'"
   ]
  },
  {
   "cell_type": "code",
   "execution_count": 3,
   "metadata": {},
   "outputs": [],
   "source": [
    "FLAGS = FLAGS()"
   ]
  },
  {
   "cell_type": "code",
   "execution_count": 4,
   "metadata": {},
   "outputs": [],
   "source": [
    "model_settings = models.prepare_model_settings(\n",
    "      len(input_data.prepare_words_list(FLAGS.wanted_words.split(','))),\n",
    "      FLAGS.sample_rate, FLAGS.clip_duration_ms, FLAGS.window_size_ms,\n",
    "      FLAGS.window_stride_ms, FLAGS.dct_coefficient_count)"
   ]
  },
  {
   "cell_type": "code",
   "execution_count": 5,
   "metadata": {
    "scrolled": false
   },
   "outputs": [
    {
     "name": "stdout",
     "output_type": "stream",
     "text": [
      "INFO:tensorflow:I ve found 158538 files for prediction\n"
     ]
    }
   ],
   "source": [
    "audio_processor = input_data.AudioProcessor(\n",
    "      FLAGS.data_url, FLAGS.data_dir, FLAGS.silence_percentage,\n",
    "      FLAGS.unknown_percentage,\n",
    "      FLAGS.wanted_words.split(','), FLAGS.validation_percentage,\n",
    "      FLAGS.testing_percentage, model_settings, predict_dir=FLAGS.predict_dir)"
   ]
  },
  {
   "cell_type": "code",
   "execution_count": 6,
   "metadata": {},
   "outputs": [],
   "source": [
    "time_shift_samples = int((FLAGS.time_shift_ms * FLAGS.sample_rate) / 1000)"
   ]
  },
  {
   "cell_type": "code",
   "execution_count": null,
   "metadata": {},
   "outputs": [],
   "source": []
  },
  {
   "cell_type": "code",
   "execution_count": 7,
   "metadata": {},
   "outputs": [],
   "source": [
    "config = tf.ConfigProto(log_device_placement=True,\n",
    "          intra_op_parallelism_threads=0, inter_op_parallelism_threads=0)\n",
    "config.gpu_options.allow_growth = True\n",
    "sess = tf.InteractiveSession(config=config)"
   ]
  },
  {
   "cell_type": "code",
   "execution_count": 45,
   "metadata": {},
   "outputs": [],
   "source": [
    "train_fingerprints, train_ground_truth = audio_processor.get_data(\n",
    "        3000, 0, model_settings, FLAGS.background_frequency,\n",
    "        FLAGS.background_volume, time_shift_samples, 'training', sess)"
   ]
  },
  {
   "cell_type": "code",
   "execution_count": 55,
   "metadata": {},
   "outputs": [
    {
     "data": {
      "text/plain": [
       "{'file': '/home/dkuzin/files/tensorflow_speech_recognition/train/audio/go/10ace7eb_nohash_0.wav',\n",
       " 'label': 'go'}"
      ]
     },
     "execution_count": 55,
     "metadata": {},
     "output_type": "execute_result"
    }
   ],
   "source": [
    "audio_processor.data_index['training'][0]"
   ]
  },
  {
   "cell_type": "code",
   "execution_count": 12,
   "metadata": {},
   "outputs": [
    {
     "data": {
      "text/plain": [
       "[]"
      ]
     },
     "execution_count": 12,
     "metadata": {},
     "output_type": "execute_result"
    }
   ],
   "source": [
    "audio_processor.data_index['predict']"
   ]
  },
  {
   "cell_type": "code",
   "execution_count": 15,
   "metadata": {},
   "outputs": [],
   "source": [
    "search_path = os.path.join(FLAGS.predict_dir, '*.wav')"
   ]
  },
  {
   "cell_type": "code",
   "execution_count": 16,
   "metadata": {},
   "outputs": [
    {
     "data": {
      "text/plain": [
       "'/home/dkuzin/files/tensorflow_speech_recognition/test/audio/*.wav'"
      ]
     },
     "execution_count": 16,
     "metadata": {},
     "output_type": "execute_result"
    }
   ],
   "source": [
    "search_path"
   ]
  },
  {
   "cell_type": "code",
   "execution_count": 7,
   "metadata": {},
   "outputs": [
    {
     "data": {
      "text/plain": [
       "['_silence_',\n",
       " '_unknown_',\n",
       " 'yes',\n",
       " 'no',\n",
       " 'up',\n",
       " 'down',\n",
       " 'left',\n",
       " 'right',\n",
       " 'on',\n",
       " 'off',\n",
       " 'stop',\n",
       " 'go']"
      ]
     },
     "execution_count": 7,
     "metadata": {},
     "output_type": "execute_result"
    }
   ],
   "source": [
    "audio_processor.words_list"
   ]
  },
  {
   "cell_type": "code",
   "execution_count": null,
   "metadata": {},
   "outputs": [],
   "source": []
  },
  {
   "cell_type": "code",
   "execution_count": null,
   "metadata": {},
   "outputs": [],
   "source": []
  },
  {
   "cell_type": "code",
   "execution_count": null,
   "metadata": {
    "scrolled": false
   },
   "outputs": [],
   "source": []
  },
  {
   "cell_type": "code",
   "execution_count": null,
   "metadata": {},
   "outputs": [],
   "source": []
  },
  {
   "cell_type": "code",
   "execution_count": null,
   "metadata": {},
   "outputs": [],
   "source": []
  }
 ],
 "metadata": {
  "kernelspec": {
   "display_name": "Python 3",
   "language": "python",
   "name": "python3"
  },
  "language_info": {
   "codemirror_mode": {
    "name": "ipython",
    "version": 3
   },
   "file_extension": ".py",
   "mimetype": "text/x-python",
   "name": "python",
   "nbconvert_exporter": "python",
   "pygments_lexer": "ipython3",
   "version": "3.6.1"
  }
 },
 "nbformat": 4,
 "nbformat_minor": 2
}
